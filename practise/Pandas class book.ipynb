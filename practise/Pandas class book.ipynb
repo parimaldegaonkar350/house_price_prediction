{
 "cells": [
  {
   "cell_type": "code",
   "execution_count": 1,
   "metadata": {},
   "outputs": [
    {
     "data": {
      "text/plain": [
       "array([2., 3., 1.])"
      ]
     },
     "execution_count": 1,
     "metadata": {},
     "output_type": "execute_result"
    }
   ],
   "source": [
    "import numpy as np\n",
    "A=np.array([[6,2,-5],[3,3,-2],[7,5,-3]])\n",
    "B=np.array([13,13,26])\n",
    "result=np.linalg.solve(A,B)\n",
    "result"
   ]
  },
  {
   "cell_type": "code",
   "execution_count": 2,
   "metadata": {},
   "outputs": [
    {
     "data": {
      "text/html": [
       "<div>\n",
       "<style scoped>\n",
       "    .dataframe tbody tr th:only-of-type {\n",
       "        vertical-align: middle;\n",
       "    }\n",
       "\n",
       "    .dataframe tbody tr th {\n",
       "        vertical-align: top;\n",
       "    }\n",
       "\n",
       "    .dataframe thead th {\n",
       "        text-align: right;\n",
       "    }\n",
       "</style>\n",
       "<table border=\"1\" class=\"dataframe\">\n",
       "  <thead>\n",
       "    <tr style=\"text-align: right;\">\n",
       "      <th></th>\n",
       "      <th>Principal_Amount</th>\n",
       "      <th>Interest_Rate</th>\n",
       "      <th>Time_in_years</th>\n",
       "      <th>compound interest</th>\n",
       "    </tr>\n",
       "  </thead>\n",
       "  <tbody>\n",
       "    <tr>\n",
       "      <th>0</th>\n",
       "      <td>10000</td>\n",
       "      <td>6</td>\n",
       "      <td>5</td>\n",
       "      <td>3382.255776</td>\n",
       "    </tr>\n",
       "    <tr>\n",
       "      <th>1</th>\n",
       "      <td>200000</td>\n",
       "      <td>7</td>\n",
       "      <td>3</td>\n",
       "      <td>45008.600000</td>\n",
       "    </tr>\n",
       "    <tr>\n",
       "      <th>2</th>\n",
       "      <td>300000</td>\n",
       "      <td>8</td>\n",
       "      <td>2</td>\n",
       "      <td>49920.000000</td>\n",
       "    </tr>\n",
       "    <tr>\n",
       "      <th>3</th>\n",
       "      <td>400000</td>\n",
       "      <td>9</td>\n",
       "      <td>2</td>\n",
       "      <td>75240.000000</td>\n",
       "    </tr>\n",
       "    <tr>\n",
       "      <th>4</th>\n",
       "      <td>500000</td>\n",
       "      <td>10</td>\n",
       "      <td>1</td>\n",
       "      <td>50000.000000</td>\n",
       "    </tr>\n",
       "    <tr>\n",
       "      <th>5</th>\n",
       "      <td>600000</td>\n",
       "      <td>5</td>\n",
       "      <td>4</td>\n",
       "      <td>129303.750000</td>\n",
       "    </tr>\n",
       "  </tbody>\n",
       "</table>\n",
       "</div>"
      ],
      "text/plain": [
       "   Principal_Amount  Interest_Rate  Time_in_years  compound interest\n",
       "0             10000              6              5        3382.255776\n",
       "1            200000              7              3       45008.600000\n",
       "2            300000              8              2       49920.000000\n",
       "3            400000              9              2       75240.000000\n",
       "4            500000             10              1       50000.000000\n",
       "5            600000              5              4      129303.750000"
      ]
     },
     "execution_count": 2,
     "metadata": {},
     "output_type": "execute_result"
    }
   ],
   "source": [
    "import pandas as pd\n",
    "import numpy as np\n",
    "data={'Principal_Amount':[10000,200000,300000,400000,500000,600000],\n",
    "     'Interest_Rate':[6,7,8,9,10,5],\n",
    "     'Time_in_years':[5,3,2,2,1,4]}\n",
    "df=pd.DataFrame(data)\n",
    "df['compound interest']= (df['Principal_Amount'] * (np.power((1 + df['Interest_Rate'] / 100), \n",
    "                          df['Time_in_years']))) - df['Principal_Amount']\n",
    "df"
   ]
  },
  {
   "cell_type": "code",
   "execution_count": null,
   "metadata": {},
   "outputs": [],
   "source": [
    "import pandas as pd\n",
    "import numpy as np\n",
    "data = {\n",
    "    'principle amount' :[10000,30000,14000,12000,600000,670000],\n",
    "    'interest rate' :[2,3,5,5,10,11],\n",
    "    'time' : [10,12,10,5,9,8]\n",
    "}\n",
    "data = pd.DataFrame(data)\n",
    "data['compound interest']= data['principle amount'] * (pow((1 + data['interest rate'] / 100), data['time'])) \n",
    "data"
   ]
  },
  {
   "cell_type": "code",
   "execution_count": null,
   "metadata": {},
   "outputs": [],
   "source": [
    "principal = np.array([1000000,102565,232365,646526,253542,636523,323523,476723,546735,248763])\n",
    "rate = np.array([5,8,9,11,10,5,8,9,11,10])\n",
    "time_y = np.array([7,11,6,3,2,9,5,2,5,7])\n",
    "for_df = {'Principal':principal,'Rate of interest': rate,'Time':time_y}\n",
    "df = pd.DataFrame(for_df)\n",
    "df['Compound Interest'] = np.power(principal*(1+(rate/time_y)),time_y)\n",
    "df"
   ]
  },
  {
   "cell_type": "code",
   "execution_count": null,
   "metadata": {},
   "outputs": [],
   "source": [
    "import pandas as pd\n",
    "import numpy as np\n",
    "\n",
    "array1={'principal_amout':[100000,200000,300000,400000,500000,600000],\n",
    "        'interest rate':np.random.randint(6,9,size=6),\n",
    "       'time_yrs':np.random.randint(5,10,size=6)}\n",
    "dff=pd.DataFrame(array1)\n",
    "a=(dff['principal_amout'] * (1+((dff('interest rate')/100))**(dff('time_yrs')))\n",
    "   \n",
    "dff['Compound_interest']= a-(dff['principal_amout'])"
   ]
  },
  {
   "cell_type": "code",
   "execution_count": null,
   "metadata": {},
   "outputs": [],
   "source": [
    "import numpy as np\n",
    "import pandas as pd\n",
    "\n",
    "data = {'Principal_Amount': [100000,140000,500000,150000,350000,120000],\n",
    "       'Interest_Rate' : [6,12,9,10,12,15],\n",
    "       'Time_in_years': [3,5,6,4,2,5]}\n",
    "df = pd.DataFrame(data)\n",
    "df['compound interest']= (df['Principal_Amount'] * (pow((1 + df['Interest_Rate'] / 100), \n",
    "                          df['Time_in_years']))) - df['Principal_Amount']\n",
    "df"
   ]
  },
  {
   "cell_type": "code",
   "execution_count": null,
   "metadata": {},
   "outputs": [],
   "source": [
    "import pandas as pd\n",
    "import numpy as np\n",
    "raw_data={'Principal_amount':[10000,20000,30000,40000,50000],\n",
    "       'Intrest_rate':[3.5,4.0,4.5,5.5,6.5],\n",
    "       'Time':[1,2,3,4,5],\n",
    "    'n':[1,2,3,4,5]}\n",
    "df_data=pd.DataFrame(raw_data)\n",
    "df_data[\"compund_intrest\"]=df_data ['Principal_amount'] * (((1 + ((df_data['Intrest_rate']/100.0)/df_data['n'])) ** (df_data['n']*df_data['Time'])))\n",
    "df_data"
   ]
  },
  {
   "cell_type": "code",
   "execution_count": null,
   "metadata": {},
   "outputs": [],
   "source": [
    "data={'principle_amount':[10000,200000,300000,400000,500000,600000],\n",
    "     'interest_rate':[6,7,8,9,10,5],\n",
    "     'time_in_year':[5,3,2,2,1,4]}\n",
    "df=pd.DataFrame(data)\n",
    "df['CI']=(df['principle_amount']*(pow(1+df['interest_rate']/100,df['time_in_year'])))-df['principle_amount']\n",
    "df"
   ]
  },
  {
   "cell_type": "code",
   "execution_count": null,
   "metadata": {},
   "outputs": [],
   "source": [
    "data = {'principle_amount':[100000,12000,30000,20000],\n",
    "             'interest_rate':[6,7,13,11],\n",
    "             'time_in_year':[5,3,2,3]}\n",
    "df = pd.DataFrame(data)\n",
    "df\n",
    "df['compound_interest']= df['principle_amount'] * (pow((1 + df['interest_rate'] / 100), df['time_in_year'])) \n",
    "df"
   ]
  },
  {
   "cell_type": "code",
   "execution_count": 3,
   "metadata": {},
   "outputs": [
    {
     "ename": "ModuleNotFoundError",
     "evalue": "No module named 'xlsxwriter'",
     "output_type": "error",
     "traceback": [
      "\u001b[1;31m---------------------------------------------------------------------------\u001b[0m",
      "\u001b[1;31mModuleNotFoundError\u001b[0m                       Traceback (most recent call last)",
      "\u001b[1;32m<ipython-input-3-9c6390bb37b2>\u001b[0m in \u001b[0;36m<module>\u001b[1;34m\u001b[0m\n\u001b[1;32m----> 1\u001b[1;33m \u001b[0mwriter\u001b[0m \u001b[1;33m=\u001b[0m \u001b[0mpd\u001b[0m\u001b[1;33m.\u001b[0m\u001b[0mExcelWriter\u001b[0m\u001b[1;33m(\u001b[0m\u001b[1;34m'pandas_simple.xlsx'\u001b[0m\u001b[1;33m,\u001b[0m \u001b[0mengine\u001b[0m\u001b[1;33m=\u001b[0m\u001b[1;34m'xlsxwriter'\u001b[0m\u001b[1;33m)\u001b[0m\u001b[1;33m\u001b[0m\u001b[1;33m\u001b[0m\u001b[0m\n\u001b[0m\u001b[0;32m      2\u001b[0m \u001b[0mdata\u001b[0m\u001b[1;33m.\u001b[0m\u001b[0mto_excel\u001b[0m\u001b[1;33m(\u001b[0m\u001b[0mwriter\u001b[0m\u001b[1;33m,\u001b[0m\u001b[0msheet_name\u001b[0m\u001b[1;33m=\u001b[0m\u001b[1;34m'Sheet1'\u001b[0m\u001b[1;33m)\u001b[0m\u001b[1;33m\u001b[0m\u001b[1;33m\u001b[0m\u001b[0m\n\u001b[0;32m      3\u001b[0m \u001b[0mworkbook\u001b[0m  \u001b[1;33m=\u001b[0m \u001b[0mwriter\u001b[0m\u001b[1;33m.\u001b[0m\u001b[0mbook\u001b[0m\u001b[1;33m\u001b[0m\u001b[1;33m\u001b[0m\u001b[0m\n\u001b[0;32m      4\u001b[0m \u001b[0mworksheet\u001b[0m \u001b[1;33m=\u001b[0m \u001b[0mwriter\u001b[0m\u001b[1;33m.\u001b[0m\u001b[0msheets\u001b[0m\u001b[1;33m[\u001b[0m\u001b[1;34m'Sheet1'\u001b[0m\u001b[1;33m]\u001b[0m\u001b[1;33m\u001b[0m\u001b[1;33m\u001b[0m\u001b[0m\n\u001b[0;32m      5\u001b[0m \u001b[0mworksheet\u001b[0m\u001b[1;33m.\u001b[0m\u001b[0mconditional_format\u001b[0m\u001b[1;33m(\u001b[0m\u001b[1;34m'B2:B8'\u001b[0m\u001b[1;33m,\u001b[0m \u001b[1;33m{\u001b[0m\u001b[1;34m'type'\u001b[0m\u001b[1;33m:\u001b[0m \u001b[1;34m'3_color_scale'\u001b[0m\u001b[1;33m}\u001b[0m\u001b[1;33m)\u001b[0m\u001b[1;33m\u001b[0m\u001b[1;33m\u001b[0m\u001b[0m\n",
      "\u001b[1;32mc:\\users\\user\\appdata\\local\\programs\\python\\python38-32\\lib\\site-packages\\pandas\\io\\excel\\_xlsxwriter.py\u001b[0m in \u001b[0;36m__init__\u001b[1;34m(self, path, engine, date_format, datetime_format, mode, storage_options, **engine_kwargs)\u001b[0m\n\u001b[0;32m    175\u001b[0m     ):\n\u001b[0;32m    176\u001b[0m         \u001b[1;31m# Use the xlsxwriter module as the Excel writer.\u001b[0m\u001b[1;33m\u001b[0m\u001b[1;33m\u001b[0m\u001b[1;33m\u001b[0m\u001b[0m\n\u001b[1;32m--> 177\u001b[1;33m         \u001b[1;32mfrom\u001b[0m \u001b[0mxlsxwriter\u001b[0m \u001b[1;32mimport\u001b[0m \u001b[0mWorkbook\u001b[0m\u001b[1;33m\u001b[0m\u001b[1;33m\u001b[0m\u001b[0m\n\u001b[0m\u001b[0;32m    178\u001b[0m \u001b[1;33m\u001b[0m\u001b[0m\n\u001b[0;32m    179\u001b[0m         \u001b[1;32mif\u001b[0m \u001b[0mmode\u001b[0m \u001b[1;33m==\u001b[0m \u001b[1;34m\"a\"\u001b[0m\u001b[1;33m:\u001b[0m\u001b[1;33m\u001b[0m\u001b[1;33m\u001b[0m\u001b[0m\n",
      "\u001b[1;31mModuleNotFoundError\u001b[0m: No module named 'xlsxwriter'"
     ]
    }
   ],
   "source": [
    "writer = pd.ExcelWriter('pandas_simple.xlsx', engine='xlsxwriter')\n",
    "data.to_excel(writer,sheet_name='Sheet1')\n",
    "workbook  = writer.book\n",
    "worksheet = writer.sheets['Sheet1']\n",
    "worksheet.conditional_format('B2:B8', {'type': '3_color_scale'})\n",
    "writer.save()"
   ]
  }
 ],
 "metadata": {
  "kernelspec": {
   "display_name": "Python 3",
   "language": "python",
   "name": "python3"
  },
  "language_info": {
   "codemirror_mode": {
    "name": "ipython",
    "version": 3
   },
   "file_extension": ".py",
   "mimetype": "text/x-python",
   "name": "python",
   "nbconvert_exporter": "python",
   "pygments_lexer": "ipython3",
   "version": "3.8.3"
  }
 },
 "nbformat": 4,
 "nbformat_minor": 4
}
